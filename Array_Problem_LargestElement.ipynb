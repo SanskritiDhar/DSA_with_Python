{
  "nbformat": 4,
  "nbformat_minor": 0,
  "metadata": {
    "colab": {
      "provenance": [],
      "authorship_tag": "ABX9TyMJ18TdbsHdpcwM4T1vBods",
      "include_colab_link": true
    },
    "kernelspec": {
      "name": "python3",
      "display_name": "Python 3"
    },
    "language_info": {
      "name": "python"
    }
  },
  "cells": [
    {
      "cell_type": "markdown",
      "metadata": {
        "id": "view-in-github",
        "colab_type": "text"
      },
      "source": [
        "<a href=\"https://colab.research.google.com/github/sanskritidhar79/DSA_with_Python/blob/main/Array_Problem_LargestElement.ipynb\" target=\"_parent\"><img src=\"https://colab.research.google.com/assets/colab-badge.svg\" alt=\"Open In Colab\"/></a>"
      ]
    },
    {
      "cell_type": "code",
      "execution_count": 5,
      "metadata": {
        "colab": {
          "base_uri": "https://localhost:8080/"
        },
        "id": "b4Qo5G5zr6UL",
        "outputId": "aa8ae6c4-92d7-4498-e77e-28d265a039ea"
      },
      "outputs": [
        {
          "output_type": "execute_result",
          "data": {
            "text/plain": [
              "99"
            ]
          },
          "metadata": {},
          "execution_count": 5
        }
      ],
      "source": [
        " def largestElement(nums):\n",
        "    largestElement= float('-inf')\n",
        "    for i in nums:\n",
        "      if i> largestElement:\n",
        "        largestElement =i\n",
        "    return largestElement\n",
        "\n",
        "largestElement([1,2,3,88,99])\n",
        "\n",
        "\n"
      ]
    }
  ]
}