{
  "nbformat": 4,
  "nbformat_minor": 0,
  "metadata": {
    "colab": {
      "provenance": [],
      "authorship_tag": "ABX9TyOZjMX3XL+MzYkepQpj2RrM",
      "include_colab_link": true
    },
    "kernelspec": {
      "name": "python3",
      "display_name": "Python 3"
    },
    "language_info": {
      "name": "python"
    }
  },
  "cells": [
    {
      "cell_type": "markdown",
      "metadata": {
        "id": "view-in-github",
        "colab_type": "text"
      },
      "source": [
        "<a href=\"https://colab.research.google.com/github/sanskritidhar79/DSA_with_Python/blob/main/Array_Problem_isArraySorted.ipynb\" target=\"_parent\"><img src=\"https://colab.research.google.com/assets/colab-badge.svg\" alt=\"Open In Colab\"/></a>"
      ]
    },
    {
      "cell_type": "code",
      "execution_count": 6,
      "metadata": {
        "colab": {
          "base_uri": "https://localhost:8080/"
        },
        "id": "zfEUNBGBBY7R",
        "outputId": "0f00fb22-ab28-49aa-8e7a-6a4fac04ad67"
      },
      "outputs": [
        {
          "output_type": "execute_result",
          "data": {
            "text/plain": [
              "False"
            ]
          },
          "metadata": {},
          "execution_count": 6
        }
      ],
      "source": [
        "def isSorted():\n",
        "  list = [1,2,4,6,8,6]\n",
        "\n",
        "  for i in range(len(list)-1):\n",
        "    if list[i] > list[i+1]:\n",
        "      return False\n",
        "  return True\n",
        "\n",
        "isSorted()"
      ]
    }
  ]
}