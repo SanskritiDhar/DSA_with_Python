{
  "nbformat": 4,
  "nbformat_minor": 0,
  "metadata": {
    "colab": {
      "provenance": [],
      "authorship_tag": "ABX9TyNPMVoC1UODcD2wKySLJIsJ",
      "include_colab_link": true
    },
    "kernelspec": {
      "name": "python3",
      "display_name": "Python 3"
    },
    "language_info": {
      "name": "python"
    }
  },
  "cells": [
    {
      "cell_type": "markdown",
      "metadata": {
        "id": "view-in-github",
        "colab_type": "text"
      },
      "source": [
        "<a href=\"https://colab.research.google.com/github/sanskritidhar79/DSA_with_Python/blob/main/Finding_The_duplicated_number_in_array.ipynb\" target=\"_parent\"><img src=\"https://colab.research.google.com/assets/colab-badge.svg\" alt=\"Open In Colab\"/></a>"
      ]
    },
    {
      "cell_type": "code",
      "execution_count": 11,
      "metadata": {
        "colab": {
          "base_uri": "https://localhost:8080/"
        },
        "id": "WP0VFdtbo3s6",
        "outputId": "de9167a9-0bde-402a-b427-9118a0175d94"
      },
      "outputs": [
        {
          "output_type": "stream",
          "name": "stdout",
          "text": [
            "Output 1 5.0\n",
            "Output 2 5\n"
          ]
        }
      ],
      "source": [
        "ls = [1,2,3,4,5,5]\n",
        "\n",
        "def app1():\n",
        "  ls = [1,2,3,4,5,5]\n",
        "  x = len(ls)-1\n",
        "  runn_sum =0\n",
        "  for i in range(len(ls)):\n",
        "    runn_sum += ls[i]\n",
        "  total_sum = (x*(x+1))/2\n",
        "  return runn_sum- total_sum\n",
        "\n",
        "def app2():\n",
        "   ls = [1,2,3,4,5,5]\n",
        "   xor_sum =0\n",
        "   xor_sum1 =0\n",
        "   for i in range(len(ls)):\n",
        "    xor_sum = ls[i] ^ xor_sum\n",
        "   for i in range(len(ls)):\n",
        "    xor_sum1 = xor_sum1^i\n",
        "\n",
        "   return xor_sum1^xor_sum\n",
        "\n",
        "\n",
        "print(\"Output 1\", app1())\n",
        "\n",
        "print(\"Output 2\",app2())\n"
      ]
    },
    {
      "cell_type": "code",
      "source": [
        "-5&-3"
      ],
      "metadata": {
        "colab": {
          "base_uri": "https://localhost:8080/"
        },
        "id": "ZWpA2y0b1Lgp",
        "outputId": "6fc117aa-00cb-4e46-cf40-23ab114bf2f1"
      },
      "execution_count": 12,
      "outputs": [
        {
          "output_type": "execute_result",
          "data": {
            "text/plain": [
              "-7"
            ]
          },
          "metadata": {},
          "execution_count": 12
        }
      ]
    },
    {
      "cell_type": "code",
      "source": [
        "-8|-14"
      ],
      "metadata": {
        "colab": {
          "base_uri": "https://localhost:8080/"
        },
        "id": "ObycmWH13H7S",
        "outputId": "563f74b4-2b23-4735-a9ab-b689c455911f"
      },
      "execution_count": 13,
      "outputs": [
        {
          "output_type": "execute_result",
          "data": {
            "text/plain": [
              "-6"
            ]
          },
          "metadata": {},
          "execution_count": 13
        }
      ]
    },
    {
      "cell_type": "code",
      "source": [
        "-8^-14"
      ],
      "metadata": {
        "colab": {
          "base_uri": "https://localhost:8080/"
        },
        "id": "uiOojyty3tH3",
        "outputId": "8a7685e3-c777-4d47-a936-a70dc8a2e0cb"
      },
      "execution_count": 14,
      "outputs": [
        {
          "output_type": "execute_result",
          "data": {
            "text/plain": [
              "10"
            ]
          },
          "metadata": {},
          "execution_count": 14
        }
      ]
    }
  ]
}