{
  "nbformat": 4,
  "nbformat_minor": 0,
  "metadata": {
    "colab": {
      "provenance": [],
      "authorship_tag": "ABX9TyNCa7/+2OaO0V2rPJx2gx5i",
      "include_colab_link": true
    },
    "kernelspec": {
      "name": "python3",
      "display_name": "Python 3"
    },
    "language_info": {
      "name": "python"
    }
  },
  "cells": [
    {
      "cell_type": "markdown",
      "metadata": {
        "id": "view-in-github",
        "colab_type": "text"
      },
      "source": [
        "<a href=\"https://colab.research.google.com/github/sanskritidhar79/DSA_with_Python/blob/main/Arrays_Problem_Second_largest_smallest.ipynb\" target=\"_parent\"><img src=\"https://colab.research.google.com/assets/colab-badge.svg\" alt=\"Open In Colab\"/></a>"
      ]
    },
    {
      "cell_type": "code",
      "execution_count": 5,
      "metadata": {
        "colab": {
          "base_uri": "https://localhost:8080/"
        },
        "id": "re2aUp_p96aA",
        "outputId": "409efe7c-4346-47d5-dcda-ef2062129e26"
      },
      "outputs": [
        {
          "output_type": "stream",
          "name": "stdout",
          "text": [
            "88\n",
            "3\n"
          ]
        }
      ],
      "source": [
        "def second_largest_approach1():\n",
        "  list = [2,3,4,5,6,71,88,99]\n",
        "\n",
        "  largest = float('-inf')\n",
        "  s_largest = float('-inf')\n",
        "\n",
        "  for num in list:\n",
        "    if num > largest :\n",
        "      s_largest = largest\n",
        "      largest = num\n",
        "    elif num>s_largest and num<largest:\n",
        "      s_largest = num\n",
        "  print(s_largest)\n",
        "\n",
        "\n",
        "def second_largest_approach2():\n",
        "  list = [2,3,4,5,6,71,88,99]\n",
        "  list.sort()\n",
        "  print(list[-2])\n",
        "\n",
        "\n",
        "def second_smallest():\n",
        "  list = [2,3,4,5,6,71,88,99]\n",
        "  smallest = float('inf')\n",
        "  s_smallest = float('inf')\n",
        "\n",
        "  for num in list:\n",
        "    if num<smallest:\n",
        "      s_smallest = smallest\n",
        "      smallest = num\n",
        "    elif num<s_smallest and num > smallest:\n",
        "      s_smallest = num\n",
        "  print(s_smallest)\n",
        "\n",
        "\n",
        "second_largest_approach1()\n",
        "second_largest_approach2()\n",
        "second_smallest()\n",
        "\n",
        "\n",
        "\n",
        "\n"
      ]
    }
  ]
}