{
  "nbformat": 4,
  "nbformat_minor": 0,
  "metadata": {
    "colab": {
      "provenance": [],
      "authorship_tag": "ABX9TyM4tAFcOGjSWzYb9eXHYZUi",
      "include_colab_link": true
    },
    "kernelspec": {
      "name": "python3",
      "display_name": "Python 3"
    },
    "language_info": {
      "name": "python"
    }
  },
  "cells": [
    {
      "cell_type": "markdown",
      "metadata": {
        "id": "view-in-github",
        "colab_type": "text"
      },
      "source": [
        "<a href=\"https://colab.research.google.com/github/sanskritidhar79/DSA_with_Python/blob/main/Arrays_Problem2.ipynb\" target=\"_parent\"><img src=\"https://colab.research.google.com/assets/colab-badge.svg\" alt=\"Open In Colab\"/></a>"
      ]
    },
    {
      "cell_type": "code",
      "execution_count": null,
      "metadata": {
        "colab": {
          "base_uri": "https://localhost:8080/"
        },
        "id": "ZlrQzGDqja7K",
        "outputId": "1ec2d160-ce3b-447f-c090-0bb27bdf45b1"
      },
      "outputs": [
        {
          "output_type": "stream",
          "name": "stdout",
          "text": [
            "Enter a number 123\n",
            "reversed number is  321\n"
          ]
        }
      ],
      "source": [
        "num = input(\"Enter a number \")\n",
        "num = int(num)\n",
        "\n",
        "n = num\n",
        "res = 0\n",
        "\n",
        "while n>0:\n",
        "  #taking last digit of the inital number\n",
        "  temp = n%10\n",
        "\n",
        "  # appending to resultant number\n",
        "  res = res*10 + temp\n",
        "\n",
        "  #diving intial number by 10 , to get the next number\n",
        "  n = n//10\n",
        "\n",
        "print(\"reversed number is \",res)"
      ]
    }
  ]
}