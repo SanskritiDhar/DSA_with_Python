{
  "nbformat": 4,
  "nbformat_minor": 0,
  "metadata": {
    "colab": {
      "provenance": [],
      "authorship_tag": "ABX9TyOfHyaIfGJDTVoe1FgjtAq9",
      "include_colab_link": true
    },
    "kernelspec": {
      "name": "python3",
      "display_name": "Python 3"
    },
    "language_info": {
      "name": "python"
    }
  },
  "cells": [
    {
      "cell_type": "markdown",
      "metadata": {
        "id": "view-in-github",
        "colab_type": "text"
      },
      "source": [
        "<a href=\"https://colab.research.google.com/github/sanskritidhar79/DSA_with_Python/blob/main/DSA_MATHS_USING_PYTHON.ipynb\" target=\"_parent\"><img src=\"https://colab.research.google.com/assets/colab-badge.svg\" alt=\"Open In Colab\"/></a>"
      ]
    },
    {
      "cell_type": "markdown",
      "source": [
        "QUES 1 : Find the number of digits in a number\n",
        "Approach :"
      ],
      "metadata": {
        "id": "rCiFASpPr9qu"
      }
    },
    {
      "cell_type": "code",
      "execution_count": 14,
      "metadata": {
        "colab": {
          "base_uri": "https://localhost:8080/"
        },
        "id": "urRrWxbzqzsc",
        "outputId": "f0863500-c950-427e-80a3-a44875c1a1be"
      },
      "outputs": [
        {
          "output_type": "stream",
          "name": "stdout",
          "text": [
            "Enter the digit988\n",
            "3\n",
            "Enter the digit977\n",
            "3\n"
          ]
        }
      ],
      "source": [
        "import math\n",
        "def countDigits(num):\n",
        "\n",
        "  temp = num\n",
        "  cnt =0\n",
        "\n",
        "  while temp > 0:\n",
        "    cnt +=1\n",
        "    temp = temp//10\n",
        "  return cnt\n",
        "\n",
        "num = int(input(\"Enter the digit\"))\n",
        "print(countDigits(num))\n",
        "\n",
        "def countDigitsOptimal():\n",
        "  num = int(input(\"Enter the digit\"))\n",
        "\n",
        "  return int(math.log10(num) +1)\n",
        "\n",
        "print(countDigitsOptimal())\n",
        "\n"
      ]
    },
    {
      "cell_type": "markdown",
      "source": [
        "Ques 2 : Reverse a number"
      ],
      "metadata": {
        "id": "CzVsjf6isIMi"
      }
    },
    {
      "cell_type": "code",
      "source": [
        "def reverseNum(n):\n",
        "\n",
        "  res = 0\n",
        "\n",
        "  if n < 0:\n",
        "    temp = abs(n)\n",
        "  else:\n",
        "    temp =n\n",
        "\n",
        "  while temp > 0:\n",
        "    last_digit = temp%10\n",
        "    res = res*10 + last_digit\n",
        "    temp = temp//10\n",
        "\n",
        "  if n < 0:\n",
        "    return -res\n",
        "  else:\n",
        "    return res\n",
        "\n",
        "num = int(input(\"Enter the number\"))\n",
        "reverseNum(num)"
      ],
      "metadata": {
        "colab": {
          "base_uri": "https://localhost:8080/"
        },
        "id": "W-i0r47PsOOY",
        "outputId": "4862b6ec-7350-4cb5-b2f6-1a8467d0a029"
      },
      "execution_count": 10,
      "outputs": [
        {
          "name": "stdout",
          "output_type": "stream",
          "text": [
            "Enter the number10000\n"
          ]
        },
        {
          "output_type": "execute_result",
          "data": {
            "text/plain": [
              "1"
            ]
          },
          "metadata": {},
          "execution_count": 10
        }
      ]
    },
    {
      "cell_type": "markdown",
      "source": [
        "Ques 3 : Check Plaindrome\n",
        "same as reverse String--- leetcode - https://leetcode.com/problems/palindrome-number/\n"
      ],
      "metadata": {
        "id": "rYR6RA2_tE6G"
      }
    },
    {
      "cell_type": "code",
      "source": [
        "def checkPalindrome(input_String):\n",
        "  str1 = input_String[::-1]\n",
        "  if str1 == input_String:\n",
        "    return \"Strings are Palindrome of each other\"\n",
        "  else:\n",
        "    return \"Strings are NOT Palindrome of each other\"\n",
        "\n",
        "str1 = input(\"Enter input String  \")\n",
        "checkPalindrome(str1)\n"
      ],
      "metadata": {
        "colab": {
          "base_uri": "https://localhost:8080/",
          "height": 53
        },
        "id": "PgXZbO87uVA-",
        "outputId": "90c1ac57-822e-4053-f3b1-d2f3fbd969cd"
      },
      "execution_count": 12,
      "outputs": [
        {
          "name": "stdout",
          "output_type": "stream",
          "text": [
            "Enter input String  uhe\n"
          ]
        },
        {
          "output_type": "execute_result",
          "data": {
            "text/plain": [
              "'Strings are NOT Palindrome of each other'"
            ],
            "application/vnd.google.colaboratory.intrinsic+json": {
              "type": "string"
            }
          },
          "metadata": {},
          "execution_count": 12
        }
      ]
    },
    {
      "cell_type": "markdown",
      "source": [
        "Ques 4: Find GCD or Hcf\n"
      ],
      "metadata": {
        "id": "T3tGjbbEwHOY"
      }
    },
    {
      "cell_type": "code",
      "source": [
        "def findGCD(a ,b ):\n",
        " # TC = O(n)\n",
        "  for i in range(min(a,b) , 0 , -1):\n",
        "    if a%i == 0 and b%i ==0:\n",
        "      return i\n",
        "\n",
        "def findGCDEuclidean(a,b):\n",
        "  # TC = logn\n",
        "  while (a> 0 and b > 0):\n",
        "    if a>b:\n",
        "      a= a%b\n",
        "    else:\n",
        "      b = b%a\n",
        "  if a==0:\n",
        "    return b\n",
        "  else:\n",
        "    return a\n",
        "\n",
        "a = int(input(\"Enter the first number\"))\n",
        "b = int(input(\"Enter second number\"))\n",
        "print(findGCD(a,b))\n",
        "print(findGCDEuclidean(a,b))\n",
        ""
      ],
      "metadata": {
        "colab": {
          "base_uri": "https://localhost:8080/"
        },
        "id": "F8N-5UFe0FP3",
        "outputId": "25bb854c-ffe7-438d-dbf1-370bf997ce39"
      },
      "execution_count": 2,
      "outputs": [
        {
          "output_type": "stream",
          "name": "stdout",
          "text": [
            "Enter the first number88\n",
            "Enter second number99\n",
            "11\n",
            "11\n"
          ]
        }
      ]
    },
    {
      "cell_type": "markdown",
      "source": [
        "Ques 5 : ArmsStrong number\n"
      ],
      "metadata": {
        "id": "EEOeIZF31Zw2"
      }
    },
    {
      "cell_type": "code",
      "source": [
        "def checkArmsStrong(n):\n",
        "\n",
        "  digit_cnt = countDigits(n)\n",
        "\n",
        "  sum =0\n",
        "\n",
        "  temp = n\n",
        "\n",
        "  while temp > 0:\n",
        "    digit = temp %10\n",
        "    sum += digit ** digit_cnt\n",
        "    temp = temp//10\n",
        "  if sum == n:\n",
        "    return True\n",
        "  else:\n",
        "    return False\n",
        "\n",
        "n = int(input(\"Enter any number\"))\n",
        "checkArmsStrong(n)"
      ],
      "metadata": {
        "colab": {
          "base_uri": "https://localhost:8080/"
        },
        "id": "20nZrpXf1fJC",
        "outputId": "af51212e-8900-4aae-cb3e-ee126db6596a"
      },
      "execution_count": 16,
      "outputs": [
        {
          "name": "stdout",
          "output_type": "stream",
          "text": [
            "Enter any number153\n"
          ]
        },
        {
          "output_type": "execute_result",
          "data": {
            "text/plain": [
              "True"
            ]
          },
          "metadata": {},
          "execution_count": 16
        }
      ]
    },
    {
      "cell_type": "markdown",
      "source": [
        "Ques 6 : Print all Diviosr\n"
      ],
      "metadata": {
        "id": "_KIEhX5Q2VyW"
      }
    },
    {
      "cell_type": "code",
      "source": [
        "def allDivisor(n):\n",
        "  if n == 0:\n",
        "    return 0\n",
        "  ls =[]\n",
        "  for i in range(1 , n+1):\n",
        "    if n%i ==0:\n",
        "      ls.append(i)\n",
        "  return ls\n",
        "\n",
        "def allDivisorOptimal(n):\n",
        "  if n==0:\n",
        "    return 0\n",
        "  ls =[]\n",
        "  for i in range(1, int(math.sqrt(n)) +1):\n",
        "    if n%i ==0:\n",
        "      ls.append(i)\n",
        "      if i!= n/i:\n",
        "        ls.append(n/i)\n",
        "\n",
        "  ls.sort()\n",
        "  return ls\n",
        "\n",
        "n = int(input(\"Enter any number\"))\n",
        "print(allDivisor(n))\n",
        "print(allDivisorOptimal(n))\n"
      ],
      "metadata": {
        "colab": {
          "base_uri": "https://localhost:8080/"
        },
        "id": "fqDPyRVT2cOX",
        "outputId": "fa6c8518-ae08-495d-cb2f-c52abb16fd43"
      },
      "execution_count": 25,
      "outputs": [
        {
          "output_type": "stream",
          "name": "stdout",
          "text": [
            "Enter any number33\n",
            "[1, 3, 11, 33]\n",
            "[1, 3, 11.0, 33.0]\n"
          ]
        }
      ]
    },
    {
      "cell_type": "markdown",
      "source": [
        "Ques 7 : Check Prime\n"
      ],
      "metadata": {
        "id": "FOgS8z_a5QxH"
      }
    },
    {
      "cell_type": "code",
      "source": [
        "def checkPrime(n):\n",
        "\n",
        "  if n <=1:\n",
        "    return \"Not Prime\"\n",
        "  for i in range(2 , int(math.sqrt(n)+1)):\n",
        "    if n % i ==0:\n",
        "      return \"Not Prime\"\n",
        "  return \"Prime\"\n",
        "\n",
        "n = int(input(\"Enter any number\"))\n",
        "print(checkPrime(n))\n"
      ],
      "metadata": {
        "colab": {
          "base_uri": "https://localhost:8080/"
        },
        "id": "bC2UNg5d2yq9",
        "outputId": "652f3475-1d31-4090-f438-ceee09acd124"
      },
      "execution_count": 27,
      "outputs": [
        {
          "output_type": "stream",
          "name": "stdout",
          "text": [
            "Enter any number7\n",
            "Prime\n"
          ]
        }
      ]
    }
  ]
}